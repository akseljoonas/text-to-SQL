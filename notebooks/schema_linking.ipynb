{
 "cells": [
  {
   "cell_type": "markdown",
   "metadata": {},
   "source": [
    "## Schema-Linking"
   ]
  },
  {
   "cell_type": "markdown",
   "metadata": {},
   "source": [
    "### Citation\n",
    "@article{pourreza2024dts, title={DTS-SQL: Decomposed Text-to-SQL with Small Large Language Models}, author={Pourreza, Mohammadreza and Rafiei, Davood}, journal={arXiv preprint arXiv:2402.01117}, year={2024} }"
   ]
  },
  {
   "cell_type": "code",
   "execution_count": 1,
   "metadata": {},
   "outputs": [],
   "source": [
    "import sqlite3\n",
    "import numpy as np\n",
    "import pandas as pd\n",
    "import os\n",
    "import re\n",
    "from tqdm import tqdm"
   ]
  },
  {
   "cell_type": "code",
   "execution_count": 3,
   "metadata": {},
   "outputs": [],
   "source": [
    "def get_all_table_names(db_uri: str) -> list[str]:\n",
    "    conn = sqlite3.connect(db_uri)\n",
    "    cursor = conn.cursor()\n",
    "    cursor.execute(\"SELECT name FROM sqlite_master WHERE type='table';\")\n",
    "    table_names = cursor.fetchall()\n",
    "    conn.close()\n",
    "    return [table_name[0] for table_name in table_names]"
   ]
  },
  {
   "cell_type": "code",
   "execution_count": 4,
   "metadata": {},
   "outputs": [],
   "source": [
    "def get_table_schema_with_samples(\n",
    "    db_uri: str, table_name: str, sample_limit: int = 0, columns_description: dict[str, str] = {}\n",
    ") -> str:\n",
    "    conn = sqlite3.connect(db_uri)\n",
    "    cursor = conn.cursor()\n",
    "\n",
    "    # Fetch table schema\n",
    "    cursor.execute(f\"PRAGMA table_info(`{table_name}`);\")\n",
    "    columns = cursor.fetchall()\n",
    "    cursor.execute(f\"PRAGMA foreign_key_list(`{table_name}`);\")\n",
    "    foreign_keys = cursor.fetchall()\n",
    "    cursor.execute(f\"PRAGMA index_list(`{table_name}`);\")\n",
    "    primary_key_indices = cursor.fetchall()\n",
    "    primary_key_columns = []\n",
    "\n",
    "    for index_info in primary_key_indices:\n",
    "        index_name = index_info[1]\n",
    "        cursor.execute(f\"PRAGMA index_info(`{index_name}`);\")\n",
    "        index_columns = cursor.fetchall()\n",
    "        primary_key_columns.extend(column[2] for column in index_columns)\n",
    "\n",
    "    # Construct CREATE TABLE statement\n",
    "    schema_str = f\"CREATE TABLE `{table_name}` (\\n\"\n",
    "    for column in columns:\n",
    "        column_name = column[1]\n",
    "        data_type = column[2]\n",
    "        schema_str += f\"  {column_name} {data_type}\"\n",
    "        if column_name in primary_key_columns:\n",
    "            schema_str += \" PRIMARY KEY\"\n",
    "        for foreign_key in foreign_keys:\n",
    "            if column_name == foreign_key[3]:\n",
    "                schema_str += f\" REFERENCES {foreign_key[2]}({foreign_key[4]})\"\n",
    "        if column_name in columns_description:\n",
    "            schema_str += f\" -- '{columns_description[column_name]}'\"\n",
    "\n",
    "        schema_str += \",\\n\"\n",
    "    schema_str = schema_str.rstrip(\",\\n\")\n",
    "    schema_str += \"\\n);\\n\"\n",
    "\n",
    "    \n",
    "    cursor.execute(f\"SELECT * FROM `{table_name}` LIMIT {sample_limit};\")\n",
    "    sample_rows = cursor.fetchall()\n",
    "\n",
    "    if len(sample_rows) > 0:\n",
    "        schema_str += f\"Sample rows from `{table_name}`:\\n\"\n",
    "        for row in sample_rows:\n",
    "            formatted_row = \", \".join(str(item) for item in row)\n",
    "            schema_str += f\"{formatted_row}\\n\"\n",
    "\n",
    "    conn.close()\n",
    "    return schema_str"
   ]
  },
  {
   "cell_type": "code",
   "execution_count": 5,
   "metadata": {},
   "outputs": [],
   "source": [
    "def remove_spaces(text):\n",
    "  return re.sub(r'\\s+', ' ', text)"
   ]
  },
  {
   "cell_type": "code",
   "execution_count": 6,
   "metadata": {},
   "outputs": [],
   "source": [
    "def load_descriptions(db_path: str, table_name: str) -> list[str]:\n",
    "    if not os.path.exists(f\"{db_path}/database_description/{table_name}.csv\"):\n",
    "        return {}\n",
    "    try:\n",
    "        df = pd.read_csv(f\"{db_path}/database_description/{table_name}.csv\")\n",
    "    except Exception:\n",
    "        return {}\n",
    "    if \"column_description\" not in df.columns or \"value_description\" not in df.columns:\n",
    "        return {}\n",
    "    columns_description = {}\n",
    "    for index, row in df.iterrows():\n",
    "        if np.nan != row[\"column_description\"] and pd.notna(row[\"column_description\"]):\n",
    "            columns_description[row[\"original_column_name\"]] = remove_spaces(row[\"column_description\"])\n",
    "            if np.nan != row[\"value_description\"] and pd.notna(row[\"value_description\"]):\n",
    "                columns_description[row[\"original_column_name\"]] += f\" has values: ({remove_spaces(row['value_description'])})\"\n",
    "    return columns_description"
   ]
  },
  {
   "cell_type": "code",
   "execution_count": 11,
   "metadata": {},
   "outputs": [],
   "source": [
    "BASE_DATASET_DIR = \"../dataset/dev.json\"\n",
    "BASE_DABATASES_DIR =  \"../dataset/dev_databases/\"\n",
    "OUTPUT_DIR = \"predict_dev.json\""
   ]
  },
  {
   "cell_type": "code",
   "execution_count": 12,
   "metadata": {},
   "outputs": [],
   "source": [
    "df = pd.read_json(BASE_DATASET_DIR)\n",
    "row = df.iloc[0]"
   ]
  },
  {
   "cell_type": "code",
   "execution_count": 17,
   "metadata": {},
   "outputs": [],
   "source": [
    "if __name__ == \"__main__\":\n",
    "        db_id = row['db_id']\n",
    "        query = row['SQL']\n",
    "        question = row['question']\n",
    "        if row['evidence'] != \"\" and row['evidence'] is not None:\n",
    "            question += \" Hint: \" + row['evidence']\n",
    "        db_uri = f\"{BASE_DABATASES_DIR}/{db_id}/{db_id}.sqlite\"\n",
    "        db_path = f\"{BASE_DABATASES_DIR}/{db_id}\"\n",
    "        table_names = get_all_table_names(db_uri)\n",
    "        database_schema = \"\"\n",
    "        for table_name in table_names:\n",
    "            columns_description = load_descriptions(db_id, table_name)\n",
    "            schema = get_table_schema_with_samples(db_uri, table_name, 0, columns_description)\n",
    "            database_schema += schema + \"\\n\"\n",
    "        user_message = f\"\"\"Given the following SQL tables, your job is to determine the columns and tables that the question is referring to.\n",
    "{database_schema}\n",
    "####\n",
    "Question: {question}\n",
    "\"\"\"\n",
    "        messages = [\n",
    "            {\"role\": \"user\", \"content\": user_message.strip()}\n",
    "        ]"
   ]
  },
  {
   "cell_type": "code",
   "execution_count": 18,
   "metadata": {},
   "outputs": [
    {
     "data": {
      "text/plain": [
       "[{'role': 'user',\n",
       "  'content': 'Given the following SQL tables, your job is to determine the columns and tables that the question is referring to.\\nCREATE TABLE `frpm` (\\n  CDSCode TEXT PRIMARY KEY REFERENCES schools(CDSCode),\\n  Academic Year TEXT,\\n  County Code TEXT,\\n  District Code INTEGER,\\n  School Code TEXT,\\n  County Name TEXT,\\n  District Name TEXT,\\n  School Name TEXT,\\n  District Type TEXT,\\n  School Type TEXT,\\n  Educational Option Type TEXT,\\n  NSLP Provision Status TEXT,\\n  Charter School (Y/N) INTEGER,\\n  Charter School Number TEXT,\\n  Charter Funding Type TEXT,\\n  IRC INTEGER,\\n  Low Grade TEXT,\\n  High Grade TEXT,\\n  Enrollment (K-12) REAL,\\n  Free Meal Count (K-12) REAL,\\n  Percent (%) Eligible Free (K-12) REAL,\\n  FRPM Count (K-12) REAL,\\n  Percent (%) Eligible FRPM (K-12) REAL,\\n  Enrollment (Ages 5-17) REAL,\\n  Free Meal Count (Ages 5-17) REAL,\\n  Percent (%) Eligible Free (Ages 5-17) REAL,\\n  FRPM Count (Ages 5-17) REAL,\\n  Percent (%) Eligible FRPM (Ages 5-17) REAL,\\n  2013-14 CALPADS Fall 1 Certification Status INTEGER\\n);\\n\\nCREATE TABLE `satscores` (\\n  cds TEXT PRIMARY KEY REFERENCES schools(CDSCode),\\n  rtype TEXT,\\n  sname TEXT,\\n  dname TEXT,\\n  cname TEXT,\\n  enroll12 INTEGER,\\n  NumTstTakr INTEGER,\\n  AvgScrRead INTEGER,\\n  AvgScrMath INTEGER,\\n  AvgScrWrite INTEGER,\\n  NumGE1500 INTEGER\\n);\\n\\nCREATE TABLE `schools` (\\n  CDSCode TEXT PRIMARY KEY,\\n  NCESDist TEXT,\\n  NCESSchool TEXT,\\n  StatusType TEXT,\\n  County TEXT,\\n  District TEXT,\\n  School TEXT,\\n  Street TEXT,\\n  StreetAbr TEXT,\\n  City TEXT,\\n  Zip TEXT,\\n  State TEXT,\\n  MailStreet TEXT,\\n  MailStrAbr TEXT,\\n  MailCity TEXT,\\n  MailZip TEXT,\\n  MailState TEXT,\\n  Phone TEXT,\\n  Ext TEXT,\\n  Website TEXT,\\n  OpenDate DATE,\\n  ClosedDate DATE,\\n  Charter INTEGER,\\n  CharterNum TEXT,\\n  FundingType TEXT,\\n  DOC TEXT,\\n  DOCType TEXT,\\n  SOC TEXT,\\n  SOCType TEXT,\\n  EdOpsCode TEXT,\\n  EdOpsName TEXT,\\n  EILCode TEXT,\\n  EILName TEXT,\\n  GSoffered TEXT,\\n  GSserved TEXT,\\n  Virtual TEXT,\\n  Magnet INTEGER,\\n  Latitude REAL,\\n  Longitude REAL,\\n  AdmFName1 TEXT,\\n  AdmLName1 TEXT,\\n  AdmEmail1 TEXT,\\n  AdmFName2 TEXT,\\n  AdmLName2 TEXT,\\n  AdmEmail2 TEXT,\\n  AdmFName3 TEXT,\\n  AdmLName3 TEXT,\\n  AdmEmail3 TEXT,\\n  LastUpdate DATE\\n);\\n\\n\\n####\\nQuestion: What is the highest eligible free rate for K-12 students in the schools in Alameda County? Hint: Eligible free rate for K-12 = `Free Meal Count (K-12)` / `Enrollment (K-12)`'}]"
      ]
     },
     "execution_count": 18,
     "metadata": {},
     "output_type": "execute_result"
    }
   ],
   "source": [
    "messages"
   ]
  }
 ],
 "metadata": {
  "kernelspec": {
   "display_name": "llm",
   "language": "python",
   "name": "python3"
  },
  "language_info": {
   "codemirror_mode": {
    "name": "ipython",
    "version": 3
   },
   "file_extension": ".py",
   "mimetype": "text/x-python",
   "name": "python",
   "nbconvert_exporter": "python",
   "pygments_lexer": "ipython3",
   "version": "3.11.8"
  }
 },
 "nbformat": 4,
 "nbformat_minor": 2
}
