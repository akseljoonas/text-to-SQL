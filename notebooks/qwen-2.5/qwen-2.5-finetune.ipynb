{
 "cells": [
  {
   "cell_type": "markdown",
   "metadata": {},
   "source": [
    "# Fine-tuning for Qwen 2.5 Coder 7B\n",
    "\n",
    "Let's start by importing packages!"
   ]
  },
  {
   "cell_type": "code",
   "execution_count": 11,
   "metadata": {},
   "outputs": [],
   "source": [
    "import os\n",
    "import sys\n",
    "from transformers import AutoModelForCausalLM, AutoTokenizer, TrainingArguments, Trainer\n",
    "import torch\n",
    "import json\n",
    "from datasets import Dataset\n",
    "\n",
    "sys.path.append(os.path.abspath(\"../data\"))"
   ]
  },
  {
   "cell_type": "markdown",
   "metadata": {},
   "source": [
    "1. Define the model name (from huggingface)"
   ]
  },
  {
   "cell_type": "code",
   "execution_count": 12,
   "metadata": {},
   "outputs": [],
   "source": [
    "model_name = \"Qwen/Qwen2.5-Coder-7B-Instruct\""
   ]
  },
  {
   "cell_type": "markdown",
   "metadata": {},
   "source": [
    "2. Loading the Model and Tokenizer\n",
    "   "
   ]
  },
  {
   "cell_type": "code",
   "execution_count": null,
   "metadata": {},
   "outputs": [],
   "source": [
    "model = AutoModelForCausalLM.from_pretrained(\n",
    "    model_name, torch_dtype=\"auto\", device_map=\"auto\"\n",
    ")\n",
    "tokenizer = AutoTokenizer.from_pretrained(model_name)"
   ]
  },
  {
   "cell_type": "markdown",
   "metadata": {},
   "source": [
    "3. Loading and Preprocessing the Dataset"
   ]
  },
  {
   "cell_type": "code",
   "execution_count": null,
   "metadata": {},
   "outputs": [],
   "source": [
    "data_dict = {\"question\": [], \"sql_query\": []}\n",
    "\n",
    "\n",
    "with open(\n",
    "    \"../processed/MINIDEV/mini_dev_oracle.json\",\n",
    "    \"r\",\n",
    ") as f:\n",
    "    data = json.load(f)\n",
    "\n",
    "\n",
    "for example in data:\n",
    "    data_dict[\"question\"].append(example[\"question\"])\n",
    "    data_dict[\"sql_query\"].append(example[\"SQL\"])\n",
    "\n",
    "dataset = Dataset.from_dict(data_dict)"
   ]
  },
  {
   "cell_type": "markdown",
   "metadata": {},
   "source": [
    "## Preprocessing Function\n",
    "\n",
    "We need to prepare the inputs and labels for training. The model expects input in a conversational format.\n",
    "\n",
    "- Messages: We format each example as a conversation between the user and the assistant.\n",
    "- Text Generation: apply_chat_template constructs the conversation text.\n",
    "- Tokenization: We tokenize the full conversation and the assistant’s response separately.\n",
    "- Labels: We set labels to -100 (ignore index) for the input tokens and only compute loss on the assistant’s response."
   ]
  },
  {
   "cell_type": "code",
   "execution_count": null,
   "metadata": {},
   "outputs": [],
   "source": [
    "def preprocess_function(examples):\n",
    "    inputs = []\n",
    "    labels_list = []\n",
    "    for question, sql_query in zip(examples[\"question\"], examples[\"sql_query\"]):\n",
    "        messages = [\n",
    "            {\n",
    "                \"role\": \"system\",\n",
    "                \"content\": \"You are Qwen, created by Alibaba Cloud. You are a helpful assistant.\",\n",
    "            },\n",
    "            {\"role\": \"user\", \"content\": question},\n",
    "            {\"role\": \"assistant\", \"content\": sql_query},\n",
    "        ]\n",
    "        # Generate the conversation text\n",
    "        text = tokenizer.apply_chat_template(\n",
    "            messages, tokenize=False, add_generation_prompt=False\n",
    "        )\n",
    "        # Tokenize the full conversation\n",
    "        tokenized = tokenizer(text)\n",
    "        input_ids = tokenized[\"input_ids\"]\n",
    "        # Tokenize the assistant's response separately\n",
    "        assistant_tokenized = tokenizer(sql_query, add_special_tokens=False)\n",
    "        assistant_input_ids = assistant_tokenized[\"input_ids\"]\n",
    "        # Determine where the assistant's response starts\n",
    "        assistant_start = len(input_ids) - len(assistant_input_ids)\n",
    "        # Mask the inputs before the assistant's response\n",
    "        labels = [-100] * assistant_start + input_ids[assistant_start:]\n",
    "        inputs.append(input_ids)\n",
    "        labels_list.append(labels)\n",
    "    return {\"input_ids\": inputs, \"labels\": labels_list}"
   ]
  },
  {
   "cell_type": "markdown",
   "metadata": {},
   "source": [
    "5. Apply the Preprocessing Function"
   ]
  },
  {
   "cell_type": "code",
   "execution_count": null,
   "metadata": {},
   "outputs": [],
   "source": [
    "tokenized_dataset = dataset.map(\n",
    "    preprocess_function, batched=True, remove_columns=[\"question\", \"sql_query\"]\n",
    ")"
   ]
  },
  {
   "cell_type": "markdown",
   "metadata": {},
   "source": [
    "## Training"
   ]
  },
  {
   "cell_type": "markdown",
   "metadata": {},
   "source": [
    "6. Set Up Training Arguments"
   ]
  },
  {
   "cell_type": "code",
   "execution_count": null,
   "metadata": {},
   "outputs": [],
   "source": [
    "\n",
    "\n",
    "training_args = TrainingArguments(\n",
    "    output_dir=\"./results\",\n",
    "    num_train_epochs=3,\n",
    "    per_device_train_batch_size=1,  # Adjust based on your GPU memory\n",
    "    gradient_accumulation_steps=16,  # Effective batch size\n",
    "    logging_steps=10,\n",
    "    save_steps=1000,\n",
    "    save_total_limit=2,\n",
    "    learning_rate=5e-5,\n",
    "    fp16=True,  # Enable if using compatible GPU\n",
    "    evaluation_strategy=\"no\",\n",
    ")"
   ]
  },
  {
   "cell_type": "code",
   "execution_count": null,
   "metadata": {},
   "outputs": [],
   "source": [
    "\n",
    "\n",
    "trainer = Trainer(\n",
    "    model=model,\n",
    "    args=training_args,\n",
    "    train_dataset=tokenized_dataset,\n",
    "    tokenizer=tokenizer,\n",
    ")"
   ]
  },
  {
   "cell_type": "code",
   "execution_count": null,
   "metadata": {},
   "outputs": [],
   "source": [
    "trainer.train()"
   ]
  },
  {
   "cell_type": "markdown",
   "metadata": {},
   "source": [
    "## Testing"
   ]
  },
  {
   "cell_type": "code",
   "execution_count": null,
   "metadata": {},
   "outputs": [],
   "source": [
    "def generate_sql(question):\n",
    "    messages = [\n",
    "        {\n",
    "            \"role\": \"system\",\n",
    "            \"content\": \"You are Qwen, created by Alibaba Cloud. You are a helpful assistant.\",\n",
    "        },\n",
    "        {\"role\": \"user\", \"content\": question},\n",
    "    ]\n",
    "    text = tokenizer.apply_chat_template(\n",
    "        messages, tokenize=False, add_generation_prompt=True\n",
    "    )\n",
    "    model_inputs = tokenizer([text], return_tensors=\"pt\").to(model.device)\n",
    "    generated_ids = model.generate(**model_inputs, max_new_tokens=512)\n",
    "    generated_ids = [\n",
    "        output_ids[len(model_inputs.input_ids[0]) :] for output_ids in generated_ids\n",
    "    ]\n",
    "    response = tokenizer.batch_decode(generated_ids, skip_special_tokens=True)[0]\n",
    "    return response.strip()\n",
    "\n",
    "\n",
    "# Example usage\n",
    "question = \"List all customers who paid in EUR.\"\n",
    "print(generate_sql(question))"
   ]
  }
 ],
 "metadata": {
  "kernelspec": {
   "display_name": "text-to-oracleSQL",
   "language": "python",
   "name": "python3"
  },
  "language_info": {
   "codemirror_mode": {
    "name": "ipython",
    "version": 3
   },
   "file_extension": ".py",
   "mimetype": "text/x-python",
   "name": "python",
   "nbconvert_exporter": "python",
   "pygments_lexer": "ipython3",
   "version": "3.12.6"
  }
 },
 "nbformat": 4,
 "nbformat_minor": 2
}
