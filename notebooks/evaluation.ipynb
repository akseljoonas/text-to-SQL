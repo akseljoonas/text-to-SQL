{
 "cells": [
  {
   "cell_type": "code",
   "execution_count": 4,
   "metadata": {},
   "outputs": [],
   "source": [
    "import sqlite3\n",
    "import json\n",
    "import os\n",
    "# Paths to files\n",
    "DATSET_PATH = \"../data/processed/DEV/dataset.json\"\n",
    "TEST_PATH = \"../data/processed/DEV/dataset.json\"  # Path to your JSON file with SQL queries\n",
    "\n",
    "DATABASE_DIR = \"../dataset/dev_databases/\"  # Directory where your database subfolders are stored\n",
    "\n",
    "DATASET_OUTPUT_PATH = \"dataset_query_results.json\"  # Path to save the query results\n",
    "TEST_OUTPUT_PATH = \"test_query_results.json\"\n",
    "\n",
    "# Number of items to process (set to None to process all items, or an integer to limit)\n",
    "TEST_LIMIT = 3  # Set this to None to process all items, or any integer to limit to first N items\n",
    "def create_sql_queries(dataset_path:str=None,output_file_path: str=None):\n",
    "    # Read the JSON file containing the SQL queries\n",
    "    with open(dataset_path, 'r') as json_file:\n",
    "        data = json.load(json_file)\n",
    "\n",
    "    # Limit the number of items if test_limit is set\n",
    "    if TEST_LIMIT is not None:\n",
    "        data = data[:TEST_LIMIT]\n",
    "\n",
    "    # Initialize an empty list to store the query results\n",
    "    all_query_results = []\n",
    "\n",
    "    # Loop through each item in the data\n",
    "    for idx, item in enumerate(data):\n",
    "        db_id = item['db_id']  # Get the database ID (db folder name)\n",
    "        query = item['SQL']    # Get the SQL query\n",
    "        question_id = item['question_id']  # Get the question ID\n",
    "\n",
    "        # Construct the path to the database file\n",
    "        db_path = os.path.join(DATABASE_DIR, db_id, f\"{db_id}.sqlite\")\n",
    "\n",
    "        # Check if the database file exists\n",
    "        if not os.path.exists(db_path):\n",
    "            print(f\"Database file '{db_path}' not found for question {question_id}\")\n",
    "            all_query_results.append([])  # Append an empty list if database not found\n",
    "        else:\n",
    "            # Connect to the SQLite database\n",
    "            conn = sqlite3.connect(db_path)\n",
    "            cursor = conn.cursor()\n",
    "\n",
    "            try:\n",
    "                # Execute the SQL query\n",
    "                cursor.execute(query)\n",
    "\n",
    "                # Fetch the results\n",
    "                rows = cursor.fetchall()\n",
    "\n",
    "                # Flatten the result to a single list (flat array)\n",
    "                query_result = [item for row in rows for item in row]  # Flatten the list of tuples\n",
    "\n",
    "                print(f\"Query executed successfully for question {question_id}.\")\n",
    "\n",
    "                # Append the flat result to the list of all results\n",
    "                all_query_results.append(query_result)\n",
    "\n",
    "            except Exception as e:\n",
    "                # Handle any errors that occur during query execution\n",
    "                print(f\"Error executing query for question {question_id}: {e}\")\n",
    "                all_query_results.append([])  # Append an empty list in case of error\n",
    "\n",
    "            finally:\n",
    "                # Close the database connection\n",
    "                conn.close()\n",
    "\n",
    "    # Save all query results (array of arrays) to a JSON file\n",
    "    with open(output_file_path, 'w') as outfile:\n",
    "        json.dump(all_query_results, outfile, indent=4)\n",
    "\n",
    "    print(f\"All results saved to {output_file_path}\")"
   ]
  },
  {
   "cell_type": "code",
   "execution_count": 5,
   "metadata": {},
   "outputs": [
    {
     "name": "stdout",
     "output_type": "stream",
     "text": [
      "Query executed successfully for question 0.\n",
      "Query executed successfully for question 1.\n",
      "Query executed successfully for question 2.\n",
      "All results saved to dataset_query_results.json\n",
      "Query executed successfully for question 0.\n",
      "Query executed successfully for question 1.\n",
      "Query executed successfully for question 2.\n",
      "All results saved to test_query_results.json\n"
     ]
    }
   ],
   "source": [
    "create_sql_queries(dataset_path=DATSET_PATH, output_file_path=DATASET_OUTPUT_PATH)\n",
    "create_sql_queries(dataset_path=DATSET_PATH, output_file_path=TEST_OUTPUT_PATH)"
   ]
  },
  {
   "cell_type": "code",
   "execution_count": 12,
   "metadata": {},
   "outputs": [
    {
     "name": "stdout",
     "output_type": "stream",
     "text": [
      "Matching entries: 2/3\n"
     ]
    }
   ],
   "source": [
    "# Function to compare two arrays entry by entry\n",
    "def compare_arrays(array_path1=None, array_path2=None):\n",
    "    with open(array_path1) as f:\n",
    "        array1 = json.load(f)\n",
    "\n",
    "    with open(array_path2) as f:\n",
    "        array2 = json.load(f)\n",
    "\n",
    "    if len(array1) != len(array2):\n",
    "        raise ValueError(\"Both arrays should have the same number of entries\")\n",
    "\n",
    "    total_entries = len(array1)\n",
    "    matching_entries = 0\n",
    "\n",
    "    for entry1, entry2 in zip(array1, array2):\n",
    "        if entry1 == entry2:\n",
    "            matching_entries += 1\n",
    "\n",
    "    return matching_entries, total_entries\n",
    "\n",
    "path1=\"dataset_query_results.json\"\n",
    "path2=\"test_query_results.json\"\n",
    "# Compare the two arrays and print the result\n",
    "matching, total = compare_arrays(path1, path2)\n",
    "\n",
    "print(f\"Matching entries: {matching}/{total}\")"
   ]
  }
 ],
 "metadata": {
  "kernelspec": {
   "display_name": "llm",
   "language": "python",
   "name": "python3"
  },
  "language_info": {
   "codemirror_mode": {
    "name": "ipython",
    "version": 3
   },
   "file_extension": ".py",
   "mimetype": "text/x-python",
   "name": "python",
   "nbconvert_exporter": "python",
   "pygments_lexer": "ipython3",
   "version": "3.11.8"
  }
 },
 "nbformat": 4,
 "nbformat_minor": 2
}
