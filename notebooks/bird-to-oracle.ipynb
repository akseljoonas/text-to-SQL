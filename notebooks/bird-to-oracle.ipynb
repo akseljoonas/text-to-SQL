{
 "cells": [
  {
   "cell_type": "code",
   "execution_count": 2,
   "metadata": {},
   "outputs": [],
   "source": [
    "import sqlglot\n",
    "import json\n",
    "import os"
   ]
  },
  {
   "cell_type": "code",
   "execution_count": 3,
   "metadata": {},
   "outputs": [],
   "source": [
    "sql_queries = json.load(\n",
    "    open(\n",
    "        \"../dataset/dev.json\",\n",
    "        \"rb\",\n",
    "    )\n",
    ")"
   ]
  },
  {
   "cell_type": "code",
   "execution_count": 4,
   "metadata": {},
   "outputs": [],
   "source": [
    "for query in sql_queries:\n",
    "    oracle_query = sqlglot.transpile(query[\"SQL\"], read=\"sqlite\", write=\"oracle\")[0]\n",
    "    query[\"SQL\"] = oracle_query"
   ]
  },
  {
   "cell_type": "code",
   "execution_count": 5,
   "metadata": {},
   "outputs": [],
   "source": [
    "os.makedirs(\"../data/processed/DEV\", exist_ok=True)\n",
    "with open(\"../data/processed/DEV/dev_oracle.json\", \"w\") as file:\n",
    "    json.dump(sql_queries, file, indent=2)"
   ]
  }
 ],
 "metadata": {
  "kernelspec": {
   "display_name": "llm",
   "language": "python",
   "name": "python3"
  },
  "language_info": {
   "codemirror_mode": {
    "name": "ipython",
    "version": 3
   },
   "file_extension": ".py",
   "mimetype": "text/x-python",
   "name": "python",
   "nbconvert_exporter": "python",
   "pygments_lexer": "ipython3",
   "version": "3.11.8"
  }
 },
 "nbformat": 4,
 "nbformat_minor": 2
}
