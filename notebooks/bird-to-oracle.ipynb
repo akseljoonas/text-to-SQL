{
 "cells": [
  {
   "cell_type": "code",
   "execution_count": 13,
   "metadata": {},
   "outputs": [],
   "source": [
    "import sqlglot"
   ]
  },
  {
   "cell_type": "code",
   "execution_count": 14,
   "metadata": {},
   "outputs": [],
   "source": [
    "query = \"\"\"WITH RECURSIVE fibonacci(n, fib) AS (\n",
    "  SELECT 1, 1\n",
    "  UNION ALL\n",
    "  SELECT n + 1, fib + LAG(fib, 1, 0) OVER (ORDER BY n)\n",
    "  FROM fibonacci\n",
    "  WHERE n < 10\n",
    ")\n",
    "SELECT n, fib,\n",
    "       CASE \n",
    "         WHEN fib % 2 = 0 THEN 'Even'\n",
    "         ELSE 'Odd'\n",
    "       END AS parity,\n",
    "       COALESCE(NULLIF(fib % 3, 0), fib) AS mod_3\n",
    "FROM fibonacci\n",
    "ORDER BY n;\"\"\""
   ]
  },
  {
   "cell_type": "code",
   "execution_count": 15,
   "metadata": {},
   "outputs": [
    {
     "data": {
      "text/plain": [
       "[\"WITH RECURSIVE fibonacci(n, fib) AS (SELECT 1, 1 UNION ALL SELECT n + 1, fib + LAG(fib, 1, 0) OVER (ORDER BY n NULLS FIRST) FROM fibonacci WHERE n < 10) SELECT n, fib, CASE WHEN MOD(fib, 2) = 0 THEN 'Even' ELSE 'Odd' END AS parity, COALESCE(NULLIF(MOD(fib, 3), 0), fib) AS mod_3 FROM fibonacci ORDER BY n NULLS FIRST\"]"
      ]
     },
     "execution_count": 15,
     "metadata": {},
     "output_type": "execute_result"
    }
   ],
   "source": [
    "sqlglot.transpile(query, read=\"sqlite\", write=\"oracle\")"
   ]
  }
 ],
 "metadata": {
  "kernelspec": {
   "display_name": "text-to-oracleSQL",
   "language": "python",
   "name": "python3"
  },
  "language_info": {
   "codemirror_mode": {
    "name": "ipython",
    "version": 3
   },
   "file_extension": ".py",
   "mimetype": "text/x-python",
   "name": "python",
   "nbconvert_exporter": "python",
   "pygments_lexer": "ipython3",
   "version": "3.12.6"
  }
 },
 "nbformat": 4,
 "nbformat_minor": 2
}
