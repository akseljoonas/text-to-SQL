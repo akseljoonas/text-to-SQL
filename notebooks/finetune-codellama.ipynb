{
 "cells": [
  {
   "cell_type": "markdown",
   "metadata": {},
   "source": [
    "# Fine-tuning\n",
    "\n",
    "Let's start by importing packages!"
   ]
  },
  {
   "cell_type": "code",
   "execution_count": 1,
   "metadata": {},
   "outputs": [],
   "source": [
    "import os\n",
    "import sys\n",
    "from transformers import (\n",
    "    AutoModelForCausalLM,\n",
    "    AutoTokenizer,\n",
    "    TrainingArguments,\n",
    "    Trainer,\n",
    "    DataCollatorForLanguageModeling,\n",
    ")\n",
    "import torch\n",
    "import json\n",
    "from datasets import Dataset\n",
    "\n",
    "sys.path.append(os.path.abspath(\"../data\"))"
   ]
  },
  {
   "cell_type": "markdown",
   "metadata": {},
   "source": [
    "1. Define the model name (from huggingface)"
   ]
  },
  {
   "cell_type": "code",
   "execution_count": 8,
   "metadata": {},
   "outputs": [],
   "source": [
    "model_name = \"meta-llama/CodeLlama-7b-hf\""
   ]
  },
  {
   "cell_type": "markdown",
   "metadata": {},
   "source": [
    "2. Loading the Model and Tokenizer\n",
    "   "
   ]
  },
  {
   "cell_type": "code",
   "execution_count": null,
   "metadata": {},
   "outputs": [],
   "source": [
    "tokenizer = AutoTokenizer.from_pretrained(model_name)\n",
    "# Load the model onto the GPU\n",
    "model = AutoModelForCausalLM.from_pretrained(\n",
    "    model_name,\n",
    "    torch_dtype=torch.float16,  # Use float16 for GPUs like V100/A100\n",
    "    device_map=None,  # Remove device_map to avoid sharding\n",
    ")\n",
    "model.to(\"cuda\")  # Move the model to GPU\n"
   ]
  },
  {
   "cell_type": "markdown",
   "metadata": {},
   "source": [
    "3. Loading and Preprocessing the Dataset"
   ]
  },
  {
   "cell_type": "code",
   "execution_count": 10,
   "metadata": {},
   "outputs": [],
   "source": [
    "data_dict = {\"question\": [], \"sql_query\": []}\n",
    "\n",
    "with open(\n",
    "    \"../data/processed/MINIDEV/mini_dev_oracle.json\",\n",
    "    \"r\",\n",
    ") as f:\n",
    "    data = json.load(f)\n",
    "\n",
    "\n",
    "for example in data:\n",
    "    data_dict[\"question\"].append(example[\"question\"])\n",
    "    data_dict[\"sql_query\"].append(example[\"SQL\"])\n",
    "\n",
    "dataset = Dataset.from_dict(data_dict)"
   ]
  },
  {
   "cell_type": "markdown",
   "metadata": {},
   "source": [
    "## Preprocessing Function\n",
    "\n",
    "We need to prepare the inputs and labels for training. The model expects input in a conversational format.\n",
    "\n",
    "- Messages: We format each example as a conversation between the user and the assistant.\n",
    "- Text Generation: apply_chat_template constructs the conversation text.\n",
    "- Tokenization: We tokenize the full conversation and the assistant’s response separately.\n",
    "- Labels: We set labels to -100 (ignore index) for the input tokens and only compute loss on the assistant’s response."
   ]
  },
  {
   "cell_type": "code",
   "execution_count": 11,
   "metadata": {},
   "outputs": [],
   "source": [
    "def preprocess_function(examples):\n",
    "    inputs = []\n",
    "    labels_list = []\n",
    "    for question, sql_query in zip(examples[\"question\"], examples[\"sql_query\"]):\n",
    "        # Construct the prompt\n",
    "        prompt = f\"Question: {question}\\nAnswer:\"\n",
    "        # Tokenize the prompt\n",
    "        prompt_tokens = tokenizer(prompt, add_special_tokens=True)\n",
    "        prompt_input_ids = prompt_tokens[\"input_ids\"]\n",
    "        # Tokenize the SQL query (the target)\n",
    "        target_tokens = tokenizer(sql_query, add_special_tokens=True)\n",
    "        target_input_ids = target_tokens[\"input_ids\"]\n",
    "        # Combine prompt and target\n",
    "        input_ids = prompt_input_ids + target_input_ids\n",
    "        # Create labels: mask the prompt tokens\n",
    "        labels = [-100] * len(prompt_input_ids) + target_input_ids\n",
    "        # Truncate sequences if necessary\n",
    "        max_length = tokenizer.model_max_length\n",
    "        if len(input_ids) > max_length:\n",
    "            input_ids = input_ids[:max_length]\n",
    "            labels = labels[:max_length]\n",
    "        inputs.append(input_ids)\n",
    "        labels_list.append(labels)\n",
    "    return {\"input_ids\": inputs, \"labels\": labels_list}"
   ]
  },
  {
   "cell_type": "markdown",
   "metadata": {},
   "source": [
    "5. Apply the Preprocessing Function"
   ]
  },
  {
   "cell_type": "code",
   "execution_count": null,
   "metadata": {},
   "outputs": [],
   "source": [
    "tokenized_dataset = dataset.map(\n",
    "    preprocess_function,\n",
    "    batched=True,\n",
    "    remove_columns=[\"question\", \"sql_query\"],\n",
    "    num_proc=4,  # Optional: adjust for multiprocessing\n",
    ")"
   ]
  },
  {
   "cell_type": "code",
   "execution_count": 13,
   "metadata": {},
   "outputs": [],
   "source": [
    "# Update the data collator to handle padding\n",
    "\n",
    "# Define the data collator\n",
    "data_collator = DataCollatorForLanguageModeling(\n",
    "    tokenizer=tokenizer,\n",
    "    mlm=False,\n",
    "    return_tensors=\"pt\",\n",
    "    pad_to_multiple_of=8,  # Efficient padding for GPU\n",
    ")"
   ]
  },
  {
   "cell_type": "markdown",
   "metadata": {},
   "source": [
    "## Training"
   ]
  },
  {
   "cell_type": "markdown",
   "metadata": {},
   "source": [
    "6. Set Up Training Arguments"
   ]
  },
  {
   "cell_type": "code",
   "execution_count": 3,
   "metadata": {},
   "outputs": [],
   "source": [
    "# Update the training arguments\n",
    "training_args = TrainingArguments(\n",
    "    output_dir=\"./results\",\n",
    "    num_train_epochs=3,\n",
    "    per_device_train_batch_size=1,  # Adjust based on your GPU memory\n",
    "    gradient_accumulation_steps=32,  # Effective batch size\n",
    "    logging_steps=10,\n",
    "    save_steps=1000,\n",
    "    save_total_limit=2,\n",
    "    learning_rate=5e-5,\n",
    "    fp16=True,  # Enable FP16 training\n",
    "    deepspeed=\"../notebooks/deepspeed.json\",\n",
    "    eval_strategy=\"no\",\n",
    "    dataloader_num_workers=4,\n",
    "    # Ensure correct device is used\n",
    "    # device should be set automatically, but you can specify it explicitly if needed\n",
    "    # device=\"cuda\",\n",
    ")"
   ]
  },
  {
   "cell_type": "code",
   "execution_count": null,
   "metadata": {},
   "outputs": [],
   "source": [
    "model.gradient_checkpointing_enable()\n",
    "training_args.gradient_checkpointing = True"
   ]
  },
  {
   "cell_type": "code",
   "execution_count": null,
   "metadata": {},
   "outputs": [],
   "source": [
    "trainer = Trainer(\n",
    "    model=model,\n",
    "    args=training_args,\n",
    "    train_dataset=tokenized_dataset,\n",
    "    tokenizer=tokenizer,\n",
    "    data_collator=data_collator,\n",
    ")"
   ]
  },
  {
   "cell_type": "code",
   "execution_count": null,
   "metadata": {},
   "outputs": [],
   "source": [
    "trainer.train()"
   ]
  },
  {
   "cell_type": "markdown",
   "metadata": {},
   "source": [
    "## Testing"
   ]
  },
  {
   "cell_type": "code",
   "execution_count": null,
   "metadata": {},
   "outputs": [],
   "source": [
    "def generate_sql(question):\n",
    "    messages = [\n",
    "        {\n",
    "            \"role\": \"system\",\n",
    "            \"content\": \"You are Qwen, created by Alibaba Cloud. You are a helpful assistant.\",\n",
    "        },\n",
    "        {\"role\": \"user\", \"content\": question},\n",
    "    ]\n",
    "    text = tokenizer.apply_chat_template(\n",
    "        messages, tokenize=False, add_generation_prompt=True\n",
    "    )\n",
    "    model_inputs = tokenizer([text], return_tensors=\"pt\").to(model.device)\n",
    "    generated_ids = model.generate(**model_inputs, max_new_tokens=512)\n",
    "    generated_ids = [\n",
    "        output_ids[len(model_inputs.input_ids[0]) :] for output_ids in generated_ids\n",
    "    ]\n",
    "    response = tokenizer.batch_decode(generated_ids, skip_special_tokens=True)[0]\n",
    "    return response.strip()\n",
    "\n",
    "\n",
    "# Example usage\n",
    "question = \"List all customers who paid in EUR.\"\n",
    "print(generate_sql(question))"
   ]
  }
 ],
 "metadata": {
  "kernelspec": {
   "display_name": "text-to-oracleSQL",
   "language": "python",
   "name": "python3"
  },
  "language_info": {
   "codemirror_mode": {
    "name": "ipython",
    "version": 3
   },
   "file_extension": ".py",
   "mimetype": "text/x-python",
   "name": "python",
   "nbconvert_exporter": "python",
   "pygments_lexer": "ipython3",
   "version": "3.12.6"
  }
 },
 "nbformat": 4,
 "nbformat_minor": 2
}
